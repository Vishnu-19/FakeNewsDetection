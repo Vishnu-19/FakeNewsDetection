{
  "cells": [
    {
      "cell_type": "markdown",
      "source": [
        "#Fake News Detection Using Ensemble Learning"
      ],
      "metadata": {
        "id": "CuW-Yl4ryiyw"
      }
    },
    {
      "cell_type": "markdown",
      "source": [
        "##Import Libraries"
      ],
      "metadata": {
        "id": "9icWlec9ypQ7"
      }
    },
    {
      "cell_type": "code",
      "execution_count": null,
      "metadata": {
        "id": "VgSErAfwI9yu"
      },
      "outputs": [],
      "source": [
        "import pandas as pd\n",
        "import numpy as np\n",
        "import seaborn as sns\n",
        "import tensorflow \n",
        "import matplotlib.pyplot as plt\n",
        "import re\n",
        "import string\n",
        "from sklearn import metrics\n",
        "from sklearn.model_selection import train_test_split\n",
        "from sklearn.metrics import accuracy_score\n",
        "from sklearn.metrics import classification_report\n",
        "from sklearn.feature_extraction.text import TfidfVectorizer\n"
      ]
    },
    {
      "cell_type": "markdown",
      "source": [
        "## Data Preprocessing\n"
      ],
      "metadata": {
        "id": "rxQkaE6jyX1x"
      }
    },
    {
      "cell_type": "code",
      "source": [
        "real = pd.read_csv('True.csv')\n",
        "fake = pd.read_csv('Fake.csv')\n",
        "\n",
        "   \n",
        "real.insert(4, \"label\", [0 for i in range(real.shape[0])], False)\n",
        "\n",
        "fake.insert(4, \"label\", [1 for i in range(fake.shape[0])], True)\n",
        "\n",
        "df = pd.concat([real,fake])\n",
        "df[\"content\"] = df[\"title\"] + \" \" + df[\"text\"]\n",
        "df = df[[\"content\",\"label\"]]\n",
        "df = df.sample(frac = 1)\n",
        "df=df.dropna()   \n",
        "\n",
        "df.head(10)"
      ],
      "metadata": {
        "colab": {
          "base_uri": "https://localhost:8080/",
          "height": 363
        },
        "id": "6o914CWhEu3y",
        "outputId": "58641580-340e-4889-a401-7d6ca1a5100d"
      },
      "execution_count": null,
      "outputs": [
        {
          "output_type": "execute_result",
          "data": {
            "text/plain": [
              "                                                 content  label\n",
              "11040  NOT OBAMA’S DOJ: FEDS Going After Huma Abedin’...      1\n",
              "5441   NY Times says Trump campaign had repeated cont...      0\n",
              "16357  No role for Assad in Syria's future: Tillerson...      0\n",
              "17813  Spanish foreign minister calls Catalonia's lea...      0\n",
              "17594  South African Supreme Court upholds reinstatin...      0\n",
              "9376   WATCH: CNN’s Chris Cuomo Stunned At STUPIDITY ...      1\n",
              "17995  Florida Man Gives Away Last Generator To Despe...      1\n",
              "14564  OBAMA’S FIRST VISIT TO A U.S. MOSQUE Raises Qu...      1\n",
              "9658   FBI likely to interview Clinton soon in emails...      0\n",
              "5170    Former CIA Director Reveals How Putin Recruit...      1"
            ],
            "text/html": [
              "\n",
              "  <div id=\"df-13016c36-0775-4910-8b49-5b218ec25e17\">\n",
              "    <div class=\"colab-df-container\">\n",
              "      <div>\n",
              "<style scoped>\n",
              "    .dataframe tbody tr th:only-of-type {\n",
              "        vertical-align: middle;\n",
              "    }\n",
              "\n",
              "    .dataframe tbody tr th {\n",
              "        vertical-align: top;\n",
              "    }\n",
              "\n",
              "    .dataframe thead th {\n",
              "        text-align: right;\n",
              "    }\n",
              "</style>\n",
              "<table border=\"1\" class=\"dataframe\">\n",
              "  <thead>\n",
              "    <tr style=\"text-align: right;\">\n",
              "      <th></th>\n",
              "      <th>content</th>\n",
              "      <th>label</th>\n",
              "    </tr>\n",
              "  </thead>\n",
              "  <tbody>\n",
              "    <tr>\n",
              "      <th>11040</th>\n",
              "      <td>NOT OBAMA’S DOJ: FEDS Going After Huma Abedin’...</td>\n",
              "      <td>1</td>\n",
              "    </tr>\n",
              "    <tr>\n",
              "      <th>5441</th>\n",
              "      <td>NY Times says Trump campaign had repeated cont...</td>\n",
              "      <td>0</td>\n",
              "    </tr>\n",
              "    <tr>\n",
              "      <th>16357</th>\n",
              "      <td>No role for Assad in Syria's future: Tillerson...</td>\n",
              "      <td>0</td>\n",
              "    </tr>\n",
              "    <tr>\n",
              "      <th>17813</th>\n",
              "      <td>Spanish foreign minister calls Catalonia's lea...</td>\n",
              "      <td>0</td>\n",
              "    </tr>\n",
              "    <tr>\n",
              "      <th>17594</th>\n",
              "      <td>South African Supreme Court upholds reinstatin...</td>\n",
              "      <td>0</td>\n",
              "    </tr>\n",
              "    <tr>\n",
              "      <th>9376</th>\n",
              "      <td>WATCH: CNN’s Chris Cuomo Stunned At STUPIDITY ...</td>\n",
              "      <td>1</td>\n",
              "    </tr>\n",
              "    <tr>\n",
              "      <th>17995</th>\n",
              "      <td>Florida Man Gives Away Last Generator To Despe...</td>\n",
              "      <td>1</td>\n",
              "    </tr>\n",
              "    <tr>\n",
              "      <th>14564</th>\n",
              "      <td>OBAMA’S FIRST VISIT TO A U.S. MOSQUE Raises Qu...</td>\n",
              "      <td>1</td>\n",
              "    </tr>\n",
              "    <tr>\n",
              "      <th>9658</th>\n",
              "      <td>FBI likely to interview Clinton soon in emails...</td>\n",
              "      <td>0</td>\n",
              "    </tr>\n",
              "    <tr>\n",
              "      <th>5170</th>\n",
              "      <td>Former CIA Director Reveals How Putin Recruit...</td>\n",
              "      <td>1</td>\n",
              "    </tr>\n",
              "  </tbody>\n",
              "</table>\n",
              "</div>\n",
              "      <button class=\"colab-df-convert\" onclick=\"convertToInteractive('df-13016c36-0775-4910-8b49-5b218ec25e17')\"\n",
              "              title=\"Convert this dataframe to an interactive table.\"\n",
              "              style=\"display:none;\">\n",
              "        \n",
              "  <svg xmlns=\"http://www.w3.org/2000/svg\" height=\"24px\"viewBox=\"0 0 24 24\"\n",
              "       width=\"24px\">\n",
              "    <path d=\"M0 0h24v24H0V0z\" fill=\"none\"/>\n",
              "    <path d=\"M18.56 5.44l.94 2.06.94-2.06 2.06-.94-2.06-.94-.94-2.06-.94 2.06-2.06.94zm-11 1L8.5 8.5l.94-2.06 2.06-.94-2.06-.94L8.5 2.5l-.94 2.06-2.06.94zm10 10l.94 2.06.94-2.06 2.06-.94-2.06-.94-.94-2.06-.94 2.06-2.06.94z\"/><path d=\"M17.41 7.96l-1.37-1.37c-.4-.4-.92-.59-1.43-.59-.52 0-1.04.2-1.43.59L10.3 9.45l-7.72 7.72c-.78.78-.78 2.05 0 2.83L4 21.41c.39.39.9.59 1.41.59.51 0 1.02-.2 1.41-.59l7.78-7.78 2.81-2.81c.8-.78.8-2.07 0-2.86zM5.41 20L4 18.59l7.72-7.72 1.47 1.35L5.41 20z\"/>\n",
              "  </svg>\n",
              "      </button>\n",
              "      \n",
              "  <style>\n",
              "    .colab-df-container {\n",
              "      display:flex;\n",
              "      flex-wrap:wrap;\n",
              "      gap: 12px;\n",
              "    }\n",
              "\n",
              "    .colab-df-convert {\n",
              "      background-color: #E8F0FE;\n",
              "      border: none;\n",
              "      border-radius: 50%;\n",
              "      cursor: pointer;\n",
              "      display: none;\n",
              "      fill: #1967D2;\n",
              "      height: 32px;\n",
              "      padding: 0 0 0 0;\n",
              "      width: 32px;\n",
              "    }\n",
              "\n",
              "    .colab-df-convert:hover {\n",
              "      background-color: #E2EBFA;\n",
              "      box-shadow: 0px 1px 2px rgba(60, 64, 67, 0.3), 0px 1px 3px 1px rgba(60, 64, 67, 0.15);\n",
              "      fill: #174EA6;\n",
              "    }\n",
              "\n",
              "    [theme=dark] .colab-df-convert {\n",
              "      background-color: #3B4455;\n",
              "      fill: #D2E3FC;\n",
              "    }\n",
              "\n",
              "    [theme=dark] .colab-df-convert:hover {\n",
              "      background-color: #434B5C;\n",
              "      box-shadow: 0px 1px 3px 1px rgba(0, 0, 0, 0.15);\n",
              "      filter: drop-shadow(0px 1px 2px rgba(0, 0, 0, 0.3));\n",
              "      fill: #FFFFFF;\n",
              "    }\n",
              "  </style>\n",
              "\n",
              "      <script>\n",
              "        const buttonEl =\n",
              "          document.querySelector('#df-13016c36-0775-4910-8b49-5b218ec25e17 button.colab-df-convert');\n",
              "        buttonEl.style.display =\n",
              "          google.colab.kernel.accessAllowed ? 'block' : 'none';\n",
              "\n",
              "        async function convertToInteractive(key) {\n",
              "          const element = document.querySelector('#df-13016c36-0775-4910-8b49-5b218ec25e17');\n",
              "          const dataTable =\n",
              "            await google.colab.kernel.invokeFunction('convertToInteractive',\n",
              "                                                     [key], {});\n",
              "          if (!dataTable) return;\n",
              "\n",
              "          const docLinkHtml = 'Like what you see? Visit the ' +\n",
              "            '<a target=\"_blank\" href=https://colab.research.google.com/notebooks/data_table.ipynb>data table notebook</a>'\n",
              "            + ' to learn more about interactive tables.';\n",
              "          element.innerHTML = '';\n",
              "          dataTable['output_type'] = 'display_data';\n",
              "          await google.colab.output.renderOutput(dataTable, element);\n",
              "          const docLink = document.createElement('div');\n",
              "          docLink.innerHTML = docLinkHtml;\n",
              "          element.appendChild(docLink);\n",
              "        }\n",
              "      </script>\n",
              "    </div>\n",
              "  </div>\n",
              "  "
            ]
          },
          "metadata": {},
          "execution_count": 27
        }
      ]
    },
    {
      "cell_type": "code",
      "execution_count": null,
      "metadata": {
        "colab": {
          "base_uri": "https://localhost:8080/"
        },
        "id": "QjDC6aM9I9y6",
        "outputId": "d0ede972-2a84-43fd-efa3-2b12780a0462"
      },
      "outputs": [
        {
          "output_type": "execute_result",
          "data": {
            "text/plain": [
              "((44898,), (44898,))"
            ]
          },
          "metadata": {},
          "execution_count": 28
        }
      ],
      "source": [
        "x = df[\"content\"]\n",
        "y = df[\"label\"]\n",
        "x.shape, y.shape"
      ]
    },
    {
      "cell_type": "markdown",
      "source": [
        "##Data Splitting"
      ],
      "metadata": {
        "id": "PN8E5LQDytfr"
      }
    },
    {
      "cell_type": "code",
      "execution_count": null,
      "metadata": {
        "id": "aBrfSmmtI9y7"
      },
      "outputs": [],
      "source": [
        "x_train, x_test, y_train, y_test = train_test_split(x, y, test_size=0.25, random_state=100)"
      ]
    },
    {
      "cell_type": "markdown",
      "source": [
        "##TF-IDF Vectorization"
      ],
      "metadata": {
        "id": "HSfGJW8TyxAm"
      }
    },
    {
      "cell_type": "code",
      "execution_count": null,
      "metadata": {
        "id": "TAJPfcKvI9y7"
      },
      "outputs": [],
      "source": [
        "from sklearn.feature_extraction.text import TfidfVectorizer"
      ]
    },
    {
      "cell_type": "code",
      "execution_count": null,
      "metadata": {
        "id": "zAcHcFQ-I9y8"
      },
      "outputs": [],
      "source": [
        "vectorization = TfidfVectorizer()\n",
        "X_train = vectorization.fit_transform(x_train)\n",
        "X_test = vectorization.transform(x_test)"
      ]
    },
    {
      "cell_type": "code",
      "source": [
        "stats={'algo':[],'acc':[]}\n"
      ],
      "metadata": {
        "id": "t_qCvm4H-am7"
      },
      "execution_count": null,
      "outputs": []
    },
    {
      "cell_type": "markdown",
      "metadata": {
        "id": "bmMzo90LI9y-"
      },
      "source": [
        "## Multi-Layer Perceptron"
      ]
    },
    {
      "cell_type": "code",
      "execution_count": null,
      "metadata": {
        "id": "fBQM58B-I9y-",
        "colab": {
          "base_uri": "https://localhost:8080/"
        },
        "outputId": "a8d31cc3-1670-466a-86bf-2d655b5412ff"
      },
      "outputs": [
        {
          "output_type": "stream",
          "name": "stderr",
          "text": [
            "/usr/local/lib/python3.9/dist-packages/sklearn/neural_network/_multilayer_perceptron.py:693: UserWarning: Training interrupted by user.\n",
            "  warnings.warn(\"Training interrupted by user.\")\n"
          ]
        }
      ],
      "source": [
        "from sklearn.neural_network import MLPClassifier\n",
        "from sklearn.datasets import make_classification\n",
        "from sklearn.model_selection import train_test_split\n",
        "\n",
        "mlp = MLPClassifier(random_state=1,max_iter=20).fit(X_train, y_train)"
      ]
    },
    {
      "cell_type": "code",
      "execution_count": null,
      "metadata": {
        "id": "SQtB7BcuI9y_",
        "outputId": "171bcfb8-2c9d-4a4e-92ba-fe21e797e13c",
        "colab": {
          "base_uri": "https://localhost:8080/"
        }
      },
      "outputs": [
        {
          "output_type": "stream",
          "name": "stdout",
          "text": [
            "0.9920712694877506\n"
          ]
        }
      ],
      "source": [
        "pred= mlp.predict(X_test)\n",
        "acc=mlp.score(X_test, y_test)\n",
        "print(acc)"
      ]
    },
    {
      "cell_type": "code",
      "source": [
        "stats['algo'].append('Multi-Layer\\nPerceptron')\n",
        "stats['acc'].append(acc*100)"
      ],
      "metadata": {
        "id": "5aFPL4p--zse"
      },
      "execution_count": null,
      "outputs": []
    },
    {
      "cell_type": "code",
      "execution_count": null,
      "metadata": {
        "id": "2Fe02_amI9y_",
        "outputId": "5bb1af40-fbab-4b37-a4cf-b16f31a16626",
        "colab": {
          "base_uri": "https://localhost:8080/",
          "height": 295
        }
      },
      "outputs": [
        {
          "output_type": "display_data",
          "data": {
            "text/plain": [
              "<Figure size 432x288 with 2 Axes>"
            ],
            "image/png": "[encoded data removed]"
          },
          "metadata": {
            "needs_background": "light"
          }
        }
      ],
      "source": [
        "cm = metrics.confusion_matrix(y_test, pred)\n",
        "cm_display = metrics.ConfusionMatrixDisplay(confusion_matrix = cm, display_labels = [\"Real\", \"Fake\"])\n",
        "\n",
        "cm_display.plot(cmap=plt.cm.Blues)\n",
        "plt.title(\"Multilayer Perceptron\")\n",
        "plt.show()"
      ]
    },
    {
      "cell_type": "code",
      "execution_count": null,
      "metadata": {
        "id": "UOr-jIdXI9y_",
        "colab": {
          "base_uri": "https://localhost:8080/"
        },
        "outputId": "894b7f95-e5f5-4d9b-8957-b063ba67db7c"
      },
      "outputs": [
        {
          "output_type": "stream",
          "name": "stdout",
          "text": [
            "              precision    recall  f1-score   support\n",
            "\n",
            "           0       0.99      0.99      0.99      5296\n",
            "           1       0.99      0.99      0.99      5929\n",
            "\n",
            "    accuracy                           0.99     11225\n",
            "   macro avg       0.99      0.99      0.99     11225\n",
            "weighted avg       0.99      0.99      0.99     11225\n",
            "\n"
          ]
        }
      ],
      "source": [
        "print(classification_report(y_test,pred))"
      ]
    },
    {
      "cell_type": "code",
      "execution_count": null,
      "metadata": {
        "id": "eQuwLT_7I9y_"
      },
      "outputs": [],
      "source": [
        "plt.savefig('Multi-Layer-Perceptron.jpg')"
      ]
    },
    {
      "cell_type": "code",
      "source": [
        "print(stats)"
      ],
      "metadata": {
        "colab": {
          "base_uri": "https://localhost:8080/"
        },
        "id": "9KHz0V7sAFdF",
        "outputId": "6e4ce83e-95fd-4fe8-d2ad-c8b09a9b18a5"
      },
      "execution_count": null,
      "outputs": [
        {
          "output_type": "stream",
          "name": "stdout",
          "text": [
            "{'algo': ['Multi-Layer Perceptron'], 'acc': [0.9914476614699332]}\n"
          ]
        }
      ]
    },
    {
      "cell_type": "markdown",
      "metadata": {
        "id": "5w8qAWodI9zA"
      },
      "source": [
        "## Logistic Regression"
      ]
    },
    {
      "cell_type": "code",
      "execution_count": null,
      "metadata": {
        "id": "_J4-RqyhI9zA"
      },
      "outputs": [],
      "source": [
        "from sklearn.linear_model import LogisticRegression"
      ]
    },
    {
      "cell_type": "code",
      "execution_count": null,
      "metadata": {
        "colab": {
          "base_uri": "https://localhost:8080/"
        },
        "id": "xr0AwYAAI9zA",
        "outputId": "256a8340-ffdc-4d4b-e9db-3299b83f4960"
      },
      "outputs": [
        {
          "output_type": "execute_result",
          "data": {
            "text/plain": [
              "0.9889532293986637"
            ]
          },
          "metadata": {},
          "execution_count": 29
        }
      ],
      "source": [
        "lr = LogisticRegression()\n",
        "lr.fit(X_train,y_train)\n",
        "pred=lr.predict(X_test)\n",
        "acc=lr.score(X_test, y_test)\n",
        "print(acc)"
      ]
    },
    {
      "cell_type": "code",
      "source": [
        "stats['algo'].append('Logistic\\nRegression')\n",
        "stats['acc'].append(acc*100)"
      ],
      "metadata": {
        "id": "bAyzsY4cARWW"
      },
      "execution_count": null,
      "outputs": []
    },
    {
      "cell_type": "code",
      "execution_count": null,
      "metadata": {
        "colab": {
          "base_uri": "https://localhost:8080/"
        },
        "id": "m-w8tvyTI9zB",
        "outputId": "5ad14f11-8d36-42b7-a24e-f247424fcbd0"
      },
      "outputs": [
        {
          "output_type": "stream",
          "name": "stdout",
          "text": [
            "              precision    recall  f1-score   support\n",
            "\n",
            "           0       0.99      0.99      0.99      5406\n",
            "           1       0.99      0.99      0.99      5819\n",
            "\n",
            "    accuracy                           0.99     11225\n",
            "   macro avg       0.99      0.99      0.99     11225\n",
            "weighted avg       0.99      0.99      0.99     11225\n",
            "\n"
          ]
        }
      ],
      "source": [
        "print(classification_report(y_test, pred))"
      ]
    },
    {
      "cell_type": "code",
      "execution_count": null,
      "metadata": {
        "colab": {
          "base_uri": "https://localhost:8080/",
          "height": 295
        },
        "id": "U09baS16I9zB",
        "outputId": "23a55cdb-74d8-475a-a4a0-ee837965d0b0"
      },
      "outputs": [
        {
          "output_type": "display_data",
          "data": {
            "text/plain": [
              "<Figure size 432x288 with 2 Axes>"
            ],
            "image/png": "[encoded data removed]"
          },
          "metadata": {
            "needs_background": "light"
          }
        }
      ],
      "source": [
        "cm = metrics.confusion_matrix(y_test, pred)\n",
        "cm_display = metrics.ConfusionMatrixDisplay(confusion_matrix = cm, display_labels = [\"Real\", \"Fake\"])\n",
        "\n",
        "cm_display.plot(cmap=plt.cm.Blues)\n",
        "plt.title(\"Logistic Regression\")\n",
        "plt.show()"
      ]
    },
    {
      "cell_type": "code",
      "execution_count": null,
      "metadata": {
        "colab": {
          "base_uri": "https://localhost:8080/",
          "height": 35
        },
        "id": "G9cVz9gPI9zB",
        "outputId": "a7b49603-3439-4f4f-c6e9-a8d943f822a5"
      },
      "outputs": [
        {
          "output_type": "display_data",
          "data": {
            "text/plain": [
              "<Figure size 432x288 with 0 Axes>"
            ]
          },
          "metadata": {}
        }
      ],
      "source": [
        "plt.savefig('Logistic_Regression.jpg')"
      ]
    },
    {
      "cell_type": "markdown",
      "metadata": {
        "id": "GyaoacPLI9zC"
      },
      "source": [
        "## Decision Tree"
      ]
    },
    {
      "cell_type": "code",
      "execution_count": null,
      "metadata": {
        "id": "wjk-v9wxI9zD"
      },
      "outputs": [],
      "source": [
        "from sklearn.tree import DecisionTreeClassifier"
      ]
    },
    {
      "cell_type": "code",
      "execution_count": null,
      "metadata": {
        "id": "tQcJqU81I9zD",
        "outputId": "855c16d3-d1e4-43e0-a1ba-72342ca4faa6",
        "colab": {
          "base_uri": "https://localhost:8080/"
        }
      },
      "outputs": [
        {
          "output_type": "execute_result",
          "data": {
            "text/plain": [
              "0.9960801781737194"
            ]
          },
          "metadata": {},
          "execution_count": 34
        }
      ],
      "source": [
        "dtc = DecisionTreeClassifier()\n",
        "dtc.fit(X_train, y_train)\n",
        "pred = dtc.predict(X_test)\n",
        "acc=dtc.score(X_test, y_test)\n",
        "print(acc)"
      ]
    },
    {
      "cell_type": "code",
      "source": [
        "stats['algo'].append('Decision\\nTree')\n",
        "stats['acc'].append(acc*100)"
      ],
      "metadata": {
        "id": "uo3og01OBBPf"
      },
      "execution_count": null,
      "outputs": []
    },
    {
      "cell_type": "code",
      "execution_count": null,
      "metadata": {
        "id": "dQ8u8YsgI9zD",
        "outputId": "7a4d3cd6-6852-4a06-f6fd-b5cc5e091212",
        "colab": {
          "base_uri": "https://localhost:8080/",
          "height": 472
        }
      },
      "outputs": [
        {
          "output_type": "display_data",
          "data": {
            "text/plain": [
              "<Figure size 640x480 with 2 Axes>"
            ],
            "image/png": "[encoded data removed]"
          },
          "metadata": {}
        }
      ],
      "source": [
        "cm = metrics.confusion_matrix(y_test, pred)\n",
        "cm_display = metrics.ConfusionMatrixDisplay(confusion_matrix = cm, display_labels = [\"Real\", \"Fake\"])\n",
        "\n",
        "cm_display.plot(cmap=plt.cm.Blues)\n",
        "plt.title(\"Decision Tree\")\n",
        "plt.show()"
      ]
    },
    {
      "cell_type": "code",
      "execution_count": null,
      "metadata": {
        "id": "3_WVAdMyI9zD",
        "colab": {
          "base_uri": "https://localhost:8080/"
        },
        "outputId": "72db508c-aeb2-4a8e-b62a-856b2bc489db"
      },
      "outputs": [
        {
          "output_type": "stream",
          "name": "stdout",
          "text": [
            "              precision    recall  f1-score   support\n",
            "\n",
            "           0       1.00      1.00      1.00      5406\n",
            "           1       1.00      1.00      1.00      5819\n",
            "\n",
            "    accuracy                           1.00     11225\n",
            "   macro avg       1.00      1.00      1.00     11225\n",
            "weighted avg       1.00      1.00      1.00     11225\n",
            "\n"
          ]
        }
      ],
      "source": [
        "print(classification_report(y_test,pred))"
      ]
    },
    {
      "cell_type": "code",
      "execution_count": null,
      "metadata": {
        "id": "XnOGkiIwI9zE",
        "colab": {
          "base_uri": "https://localhost:8080/",
          "height": 35
        },
        "outputId": "675e6f7d-a1b0-4eb6-bcd2-2fa17e21917f"
      },
      "outputs": [
        {
          "output_type": "display_data",
          "data": {
            "text/plain": [
              "<Figure size 432x288 with 0 Axes>"
            ]
          },
          "metadata": {}
        }
      ],
      "source": [
        "plt.savefig('Decision_Tree.jpg')"
      ]
    },
    {
      "cell_type": "markdown",
      "metadata": {
        "id": "Dln0uMUZI9zF"
      },
      "source": [
        "## Random Forest Classifier"
      ]
    },
    {
      "cell_type": "code",
      "execution_count": null,
      "metadata": {
        "id": "heB8Rss2I9zG",
        "colab": {
          "base_uri": "https://localhost:8080/"
        },
        "outputId": "aad4e9e5-71d8-45e3-f745-1deef49376c8"
      },
      "outputs": [
        {
          "output_type": "execute_result",
          "data": {
            "text/plain": [
              "0.9857461024498887"
            ]
          },
          "metadata": {},
          "execution_count": 65
        }
      ],
      "source": [
        "from sklearn.ensemble import RandomForestClassifier\n",
        "\n",
        "rfc = RandomForestClassifier(n_estimators=50, criterion=\"entropy\")\n",
        "rfc.fit(X_train, y_train)\n",
        "pred = rfc.predict(X_test)\n",
        "acc=rfc.score(X_test, y_test)\n",
        "print(acc)"
      ]
    },
    {
      "cell_type": "code",
      "execution_count": null,
      "metadata": {
        "id": "en4L_lg7I9zG",
        "colab": {
          "base_uri": "https://localhost:8080/",
          "height": 472
        },
        "outputId": "619a5841-a055-4eab-b865-4074376f6ca8"
      },
      "outputs": [
        {
          "output_type": "display_data",
          "data": {
            "text/plain": [
              "<Figure size 640x480 with 2 Axes>"
            ],
            "image/png": "[encoded data removed]"
          },
          "metadata": {}
        }
      ],
      "source": [
        "cm = metrics.confusion_matrix(y_test, pred)\n",
        "cm_display = metrics.ConfusionMatrixDisplay(confusion_matrix = cm, display_labels = [\"Real\", \"Fake\"])\n",
        "\n",
        "cm_display.plot(cmap=plt.cm.Blues)\n",
        "plt.title(\"Random Forest\")\n",
        "plt.show()"
      ]
    },
    {
      "cell_type": "code",
      "source": [
        "stats['algo'].append('Random\\nForest')\n",
        "stats['acc'].append(acc*100)"
      ],
      "metadata": {
        "id": "w5zDqjfWBvAN"
      },
      "execution_count": null,
      "outputs": []
    },
    {
      "cell_type": "code",
      "source": [
        "print(classification_report(y_test, pred))"
      ],
      "metadata": {
        "colab": {
          "base_uri": "https://localhost:8080/"
        },
        "id": "7FFEVqxPnS2n",
        "outputId": "599d7cef-89b6-41df-c7d9-3a7d04c6adf8"
      },
      "execution_count": null,
      "outputs": [
        {
          "output_type": "stream",
          "name": "stdout",
          "text": [
            "              precision    recall  f1-score   support\n",
            "\n",
            "           0       0.99      0.99      0.99      5406\n",
            "           1       0.99      0.99      0.99      5819\n",
            "\n",
            "    accuracy                           0.99     11225\n",
            "   macro avg       0.99      0.99      0.99     11225\n",
            "weighted avg       0.99      0.99      0.99     11225\n",
            "\n"
          ]
        }
      ]
    },
    {
      "cell_type": "code",
      "execution_count": null,
      "metadata": {
        "id": "2JkvGEzBI9zJ"
      },
      "outputs": [],
      "source": [
        "plt.savefig('Random_Forest_Classifier.jpg')"
      ]
    },
    {
      "cell_type": "markdown",
      "metadata": {
        "id": "SaB2SHGoI9zJ"
      },
      "source": [
        "## KNN"
      ]
    },
    {
      "cell_type": "code",
      "execution_count": null,
      "metadata": {
        "id": "q36oSbO0I9zK",
        "colab": {
          "base_uri": "https://localhost:8080/"
        },
        "outputId": "7088216e-986c-45e3-f53f-ddf68f30d54a"
      },
      "outputs": [
        {
          "output_type": "execute_result",
          "data": {
            "text/plain": [
              "0.8441674087266251"
            ]
          },
          "metadata": {},
          "execution_count": 49
        }
      ],
      "source": [
        "from sklearn.neighbors import KNeighborsClassifier\n",
        "\n",
        "knn = KNeighborsClassifier(n_neighbors=3, n_jobs=-1)\n",
        "knn.fit(X_train, y_train)\n",
        "pred= knn.predict(X_test)\n",
        "acc=knn.score(X_test, y_test)\n",
        "print(acc)"
      ]
    },
    {
      "cell_type": "code",
      "execution_count": null,
      "metadata": {
        "id": "Yef5DPcoI9zK",
        "colab": {
          "base_uri": "https://localhost:8080/",
          "height": 472
        },
        "outputId": "cc8537f8-2a36-4120-d75b-e154a2d521f6"
      },
      "outputs": [
        {
          "output_type": "display_data",
          "data": {
            "text/plain": [
              "<Figure size 640x480 with 2 Axes>"
            ],
            "image/png": "[encoded data removed]"
          },
          "metadata": {}
        }
      ],
      "source": [
        "#k=3\n",
        "cm = metrics.confusion_matrix(y_test, pred)\n",
        "cm_display = metrics.ConfusionMatrixDisplay(confusion_matrix = cm, display_labels = [\"Real\", \"Fake\"])\n",
        "\n",
        "cm_display.plot(cmap=plt.cm.Blues)\n",
        "plt.title(\"KNN\")\n",
        "plt.show()"
      ]
    },
    {
      "cell_type": "code",
      "source": [
        "stats['algo'].append('KNN')\n",
        "stats['acc'].append(acc*100)"
      ],
      "metadata": {
        "id": "LfrSXw4RDRFp"
      },
      "execution_count": null,
      "outputs": []
    },
    {
      "cell_type": "code",
      "source": [
        "print(classification_report(y_test, pred))"
      ],
      "metadata": {
        "id": "r9kEM8tzni3S",
        "colab": {
          "base_uri": "https://localhost:8080/"
        },
        "outputId": "5933bc2e-a24d-4e16-9de6-d415404632e4"
      },
      "execution_count": null,
      "outputs": [
        {
          "output_type": "stream",
          "name": "stdout",
          "text": [
            "              precision    recall  f1-score   support\n",
            "\n",
            "           0       0.85      0.81      0.83       529\n",
            "           1       0.84      0.87      0.86       594\n",
            "\n",
            "    accuracy                           0.84      1123\n",
            "   macro avg       0.84      0.84      0.84      1123\n",
            "weighted avg       0.84      0.84      0.84      1123\n",
            "\n"
          ]
        }
      ]
    },
    {
      "cell_type": "code",
      "execution_count": null,
      "metadata": {
        "id": "SH3jfN0rI9zM"
      },
      "outputs": [],
      "source": [
        "plt.savefig('KNN.jpg')"
      ]
    },
    {
      "cell_type": "markdown",
      "metadata": {
        "id": "xNPKYT04I9zM"
      },
      "source": [
        "## SVM -Linear Kernel"
      ]
    },
    {
      "cell_type": "code",
      "execution_count": null,
      "metadata": {
        "id": "9DzXkqHoI9zM"
      },
      "outputs": [],
      "source": [
        "from sklearn import svm\n",
        "lsvm = svm.SVC(kernel=\"linear\")\n",
        "lsvm.fit(X_train, y_train)\n",
        "pred= lsvm.predict(X_test)\n",
        "acc=lsvm.score(X_test, y_test)\n",
        "print(acc)"
      ]
    },
    {
      "cell_type": "code",
      "execution_count": null,
      "metadata": {
        "id": "ojIgqLuzI9zM",
        "colab": {
          "base_uri": "https://localhost:8080/",
          "height": 472
        },
        "outputId": "188cf4f4-5913-4eb0-bb90-9f61d32b893f"
      },
      "outputs": [
        {
          "output_type": "display_data",
          "data": {
            "text/plain": [
              "<Figure size 640x480 with 2 Axes>"
            ],
            "image/png": "[encoded data removed]"
          },
          "metadata": {}
        }
      ],
      "source": [
        "cm = metrics.confusion_matrix(y_test, pred)\n",
        "cm_display = metrics.ConfusionMatrixDisplay(confusion_matrix = cm, display_labels = [\"Real\", \"Fake\"])\n",
        "\n",
        "cm_display.plot(cmap=plt.cm.Blues)\n",
        "plt.title(\"Linear SVM\")\n",
        "plt.show()"
      ]
    },
    {
      "cell_type": "code",
      "source": [
        "stats['algo'].append('SVM')\n",
        "stats['acc'].append(acc*100)"
      ],
      "metadata": {
        "id": "aLqeTyEoB26D"
      },
      "execution_count": null,
      "outputs": []
    },
    {
      "cell_type": "code",
      "source": [
        "print(classification_report(y_test, pred))"
      ],
      "metadata": {
        "colab": {
          "base_uri": "https://localhost:8080/"
        },
        "id": "Oj4dlVvnoMf-",
        "outputId": "dfb6695a-9a9d-441f-b1ed-b74afec3b6e1"
      },
      "execution_count": null,
      "outputs": [
        {
          "output_type": "stream",
          "name": "stdout",
          "text": [
            "              precision    recall  f1-score   support\n",
            "\n",
            "           0       0.99      0.99      0.99      2143\n",
            "           1       0.99      0.99      0.99      2347\n",
            "\n",
            "    accuracy                           0.99      4490\n",
            "   macro avg       0.99      0.99      0.99      4490\n",
            "weighted avg       0.99      0.99      0.99      4490\n",
            "\n"
          ]
        }
      ]
    },
    {
      "cell_type": "code",
      "execution_count": null,
      "metadata": {
        "id": "kch9YilxI9zN"
      },
      "outputs": [],
      "source": [
        "plt.savefig('SVM.jpg')"
      ]
    },
    {
      "cell_type": "code",
      "source": [],
      "metadata": {
        "id": "YF1wjIrZFKS2"
      },
      "execution_count": null,
      "outputs": []
    },
    {
      "cell_type": "markdown",
      "source": [
        "##Plotting the graph for analysis"
      ],
      "metadata": {
        "id": "4vHhUUAxzdcB"
      }
    },
    {
      "cell_type": "code",
      "source": [
        "fig, ax = plt.subplots(figsize=(6, 6))\n",
        "ax.bar(stats['algo'], stats['acc'], color=['#1f77b4',\n",
        " '#ff7f0e',\n",
        " '#2ca02c',\n",
        "  '#9467bd',\n",
        " '#bcbd22',\n",
        " '#7f7f7f'])\n",
        "\n",
        "\n",
        "ax.set_xlabel(\"Algorithm\")\n",
        "ax.set_ylabel(\"Accuracy\")\n",
        "ax.set_title(\"Fake News Detection\")\n",
        "plt.xticks(fontsize=8)\n",
        "\n",
        "plt.show()"
      ],
      "metadata": {
        "colab": {
          "base_uri": "https://localhost:8080/",
          "height": 572
        },
        "id": "LPm_fjRYER1a",
        "outputId": "af8005f3-7e36-4d32-c0cd-71e21bf2e788"
      },
      "execution_count": null,
      "outputs": [
        {
          "output_type": "display_data",
          "data": {
            "text/plain": [
              "<Figure size 600x600 with 1 Axes>"
            ],
            "image/png": "[encoded data removed]"
          },
          "metadata": {}
        }
      ]
    },
    {
      "cell_type": "code",
      "source": [],
      "metadata": {
        "id": "aCaE7djAHZuL"
      },
      "execution_count": null,
      "outputs": []
    }
  ],
  "metadata": {
    "kernelspec": {
      "display_name": "Python 3",
      "language": "python",
      "name": "python3"
    },
    "language_info": {
      "codemirror_mode": {
        "name": "ipython",
        "version": 3
      },
      "file_extension": ".py",
      "mimetype": "text/x-python",
      "name": "python",
      "nbconvert_exporter": "python",
      "pygments_lexer": "ipython3",
      "version": "3.8.5"
    },
    "colab": {
      "provenance": []
    },
    "accelerator": "GPU",
    "gpuClass": "standard"
  },
  "nbformat": 4,
  "nbformat_minor": 0
}